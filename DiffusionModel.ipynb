{
  "nbformat": 4,
  "nbformat_minor": 0,
  "metadata": {
    "colab": {
      "provenance": [],
      "gpuType": "T4",
      "authorship_tag": "ABX9TyOF+pZOaD7KlrDRkQYlsDLN",
      "include_colab_link": true
    },
    "kernelspec": {
      "name": "python3",
      "display_name": "Python 3"
    },
    "language_info": {
      "name": "python"
    },
    "accelerator": "GPU"
  },
  "cells": [
    {
      "cell_type": "markdown",
      "metadata": {
        "id": "view-in-github",
        "colab_type": "text"
      },
      "source": [
        "<a href=\"https://colab.research.google.com/github/samuel23taku/NoteBooks/blob/main/DiffusionModel.ipynb\" target=\"_parent\"><img src=\"https://colab.research.google.com/assets/colab-badge.svg\" alt=\"Open In Colab\"/></a>"
      ]
    },
    {
      "cell_type": "markdown",
      "source": [
        "# Data Loading"
      ],
      "metadata": {
        "id": "GH9BhSmDtyzf"
      }
    },
    {
      "cell_type": "code",
      "source": [
        "import torch\n",
        "import torch.nn as nn\n",
        "import torch.nn.functional as F\n",
        "import torch.optim as optim\n",
        "from torchvision import datasets,transforms\n",
        "from torchvision.transforms import  ToTensor, Normalize\n",
        "from torch.utils.data import DataLoader\n",
        "import matplotlib.pyplot as plt\n",
        "import numpy as np\n",
        "import time\n",
        "import datetime\n",
        "# Transformations\n",
        "transform = transforms.Compose([\n",
        "    transforms.ToTensor(),\n",
        "    transforms.Normalize((0.5,),(0.5,))\n",
        "])\n",
        "\n",
        "# Other code\n",
        "training_data = datasets.MNIST(\n",
        "    root=\"data\",\n",
        "    train=True,\n",
        "    download=True,\n",
        "    transform=transform\n",
        ")\n",
        "\n",
        "testing_data = datasets.MNIST(\n",
        "    root=\"data\",\n",
        "    train=False,\n",
        "    download=True,\n",
        "    transform=transform\n",
        ")\n",
        "\n",
        "train_dataloader = DataLoader(\n",
        "    training_data, batch_size = 2000,shuffle=True\n",
        ")\n",
        "test_dataloader = DataLoader(\n",
        "    testing_data, batch_size = 1000,shuffle=True\n",
        ")\n",
        "\n",
        "\n",
        "train_features,train_labels = next(iter(train_dataloader))\n",
        "eg_image = train_features[0].squeeze()\n",
        "label = train_labels[0]\n",
        "plt.imshow(eg_image)\n",
        "plt.title(label)\n",
        "plt.show()"
      ],
      "metadata": {
        "colab": {
          "base_uri": "https://localhost:8080/",
          "height": 452
        },
        "id": "-6_bqgV8bQS9",
        "outputId": "61286c6a-af73-496a-d458-93c1242c4ecf"
      },
      "execution_count": 7,
      "outputs": [
        {
          "output_type": "display_data",
          "data": {
            "text/plain": [
              "<Figure size 640x480 with 1 Axes>"
            ],
            "image/png": "[encoded data removed]"
          },
          "metadata": {}
        }
      ]
    },
    {
      "cell_type": "markdown",
      "source": [],
      "metadata": {
        "id": "hRnYYw5RfDZX"
      }
    },
    {
      "cell_type": "markdown",
      "source": [
        "# Diffusion Process\n",
        "\n"
      ],
      "metadata": {
        "id": "tDXoa2VVtqjP"
      }
    },
    {
      "cell_type": "code",
      "source": [
        "class Util_DoubleConv(nn.Module):\n",
        "  def __init__(self,in_channels,out_channels,mid_channels=None): # mid_channels for number of neurons in the middle layer\n",
        "    super().__init__()\n",
        "    if not mid_channels:\n",
        "        mid_channels = out_channels\n",
        "    self.double_conv = nn.Sequential(\n",
        "        nn.Conv2d(in_channels, mid_channels, kernel_size=3, padding=1, bias=False),\n",
        "        nn.BatchNorm2d(mid_channels),\n",
        "        nn.ReLU(inplace=True),\n",
        "        nn.Conv2d(mid_channels, out_channels, kernel_size=3, padding=1, bias=False),\n",
        "        nn.BatchNorm2d(out_channels),\n",
        "        nn.ReLU(inplace=True)\n",
        "    )\n",
        "\n",
        "  def forward(self,x):\n",
        "    return self.double_conv(x)\n",
        "\n",
        "class Util_DownScale(nn.Module):\n",
        "  def __init__(self,in_channels,out_channels):\n",
        "    super().__init__()\n",
        "    self.maxpool_conv = nn.Sequential(\n",
        "        nn.MaxPool2d(kernel_size=2),\n",
        "        Util_DoubleConv(in_channels,out_channels)\n",
        "    )\n",
        "\n",
        "  def forward(self,x):\n",
        "    return self.maxpool_conv(x)\n",
        "\n",
        "class Util_UpScale(nn.Module):\n",
        "  def __init__(self,in_channels,out_channels,bilinear=True): # Either use bilinear or transposed Conv2d\n",
        "    super().__init__()\n",
        "    if bilinear:\n",
        "      self.up = nn.Upsample(scale_factor=2,mode=\"bilinear\",align_corners=True)\n",
        "      self.conv = Util_DoubleConv(in_channels=in_channels,out_channels=out_channels,mid_channels= in_channels // 2)\n",
        "    else:\n",
        "      self.up = nn.ConvTranspose2d(in_channels=in_channels,out_channels=out_channels,kernel_size = 2,stride=2)\n",
        "      self.conv = Util_DoubleConv(in_channels,out_channels,mid_channels= in_channels // 2)\n",
        "\n",
        "  def forward(self,x1,x2):\n",
        "    '''\n",
        "        x2 is a skip connection value from the encoder,\n",
        "        while x1 is the decoder current state\n",
        "    '''\n",
        "\n",
        "    x1 = self.up(x1)\n",
        "\n",
        "    # Compute height difference between x1 and x2\n",
        "    diffY = x2.size()[2] - x1.size()[2]\n",
        "    diffX = x2.size()[3] - x1.size()[3]\n",
        "\n",
        "    # Make x1 match the size of x2\n",
        "    x1 = F.pad(x1, [diffX // 2, diffX - diffX // 2,diffY // 2, diffY - diffY // 2])\n",
        "\n",
        "    # Do skip connection by concaticating tensor from different layers\n",
        "    x = torch.cat([x2,x1],dim=1)\n",
        "\n",
        "    return self.conv(x)\n",
        "\n",
        "class OutConv(nn.Module):\n",
        "    def __init__(self, in_channels, out_channels):\n",
        "        super(OutConv, self).__init__()\n",
        "        self.conv = nn.Conv2d(in_channels, out_channels, kernel_size=1)\n",
        "\n",
        "    def forward(self, x):\n",
        "        return self.conv(x)\n",
        "\n",
        "class DiffusionUNet(nn.Module):\n",
        "    def __init__(self, in_channels, n_classes, bilinear=False):\n",
        "        super(DiffusionUNet, self).__init__()\n",
        "        self.n_channels = in_channels\n",
        "        self.n_classes = n_classes\n",
        "        self.bilinear = bilinear\n",
        "\n",
        "        self.inc = (Util_DoubleConv(in_channels, 64))\n",
        "        self.down1 = (Util_DownScale(64, 128))\n",
        "        self.down2 = (Util_DownScale(128, 256))\n",
        "        self.down3 = (Util_DownScale(256, 512))\n",
        "        factor = 2 if bilinear else 1\n",
        "        self.down4 = (Util_DownScale(512, 1024 // factor))\n",
        "        self.up1 = (Util_UpScale(1024, 512 // factor, bilinear))\n",
        "        self.up2 = (Util_UpScale(512, 256 // factor, bilinear))\n",
        "        self.up3 = (Util_UpScale(256, 128 // factor, bilinear))\n",
        "        self.up4 = (Util_UpScale(128, 64, bilinear))\n",
        "        self.outc = (OutConv(64, n_classes))\n",
        "\n",
        "    def forward(self, x):\n",
        "      x1 = self.inc(x)\n",
        "      x2 = self.down1(x1)\n",
        "      x3 = self.down2(x2)\n",
        "      x4 = self.down3(x3)\n",
        "      x5 = self.down4(x4)\n",
        "      x = self.up1(x5, x4)\n",
        "      x = self.up2(x, x3)\n",
        "      x = self.up3(x, x2)\n",
        "      x = self.up4(x, x1)\n",
        "      logits = self.outc(x)\n",
        "      return logits\n",
        "\n",
        "    def use_checkpointing(self):\n",
        "      self.inc = torch.utils.checkpoint(self.inc)\n",
        "      self.down1 = torch.utils.checkpoint(self.down1)\n",
        "      self.down2 = torch.utils.checkpoint(self.down2)\n",
        "      self.down3 = torch.utils.checkpoint(self.down3)\n",
        "      self.down4 = torch.utils.checkpoint(self.down4)\n",
        "      self.up1 = torch.utils.checkpoint(self.up1)\n",
        "      self.up2 = torch.utils.checkpoint(self.up2)\n",
        "      self.up3 = torch.utils.checkpoint(self.up3)\n",
        "      self.up4 = torch.utils.checkpoint(self.up4)\n",
        "      self.outc = torch.utils.checkpoint(self.outc)\n",
        "# The noising part\n",
        "def forward_diffusion(alphas_cumprod, x_start, t, noise):\n",
        "    batch_size, _, height, width = x_start.size()\n",
        "    # Expand alphas_cumprod[t] to match the shape of x_start and noise\n",
        "    alphas_cumprod_t = alphas_cumprod[t].view(batch_size, 1, 1, 1).expand(batch_size, 1, height, width).to(x_start.device)\n",
        "    return torch.sqrt(alphas_cumprod_t) * x_start + torch.sqrt(1 - alphas_cumprod_t) * noise\n"
      ],
      "metadata": {
        "id": "lZsJJ7OhfHJP"
      },
      "execution_count": 8,
      "outputs": []
    },
    {
      "cell_type": "markdown",
      "source": [
        "## Training Loop"
      ],
      "metadata": {
        "id": "Y_fIJZsvj_am"
      }
    },
    {
      "cell_type": "code",
      "source": [
        "device = torch.device(\"cuda\" if torch.cuda.is_available() else \"cpu\")\n",
        "print(f\"Using device: {device}\")\n",
        "\n",
        "def get_alphas_cumprod(T):\n",
        "    betas = np.linspace(1e-4, 0.02, T)\n",
        "    alphas = 1 - betas\n",
        "    alphas_cumprod = np.cumprod(alphas)\n",
        "    return alphas_cumprod\n",
        "T = 1000  # Number of diffusion steps\n",
        "def train_model(train_loader,epoch_counts=30,lr=1e-3,weights_save_path = \"./weights\"):\n",
        "  alphas_cumprod = get_alphas_cumprod(T)\n",
        "  alphas_cumprod = torch.tensor(alphas_cumprod).float().to(device)\n",
        "\n",
        "  model = DiffusionUNet(in_channels=1,n_classes=1,bilinear=False)\n",
        "  model.to(device)\n",
        "\n",
        "  optimizer = optim.Adam(model.parameters(), lr=lr)\n",
        "  loss_criterion = nn.MSELoss()\n",
        "# Generate alpha values to noise on each timestep\n",
        "  model.train()\n",
        "  for epoch in range(epoch_counts):\n",
        "    epoch_start_time = time.time()  # Start time before epoch begins\n",
        "    epoch_loss = 0\n",
        "    for batch_idx, (data,_) in enumerate(train_loader):\n",
        "      data = data.view(-1,1,28,28).to(device) # Reshape and\n",
        "      t = torch.randint(0,T,(data.size(0),),dtype=torch.long,device=device)\n",
        "      noise = torch.randn_like(data,device=device)\n",
        "      x_t = forward_diffusion(alphas_cumprod,data,t,noise)\n",
        "\n",
        "      optimizer.zero_grad()\n",
        "      predicted_noise = model(x_t)\n",
        "      if torch.isnan(predicted_noise).any():\n",
        "        print(f\"NaNs detected in model output at batch {batch_idx}\")\n",
        "        break\n",
        "      loss = loss_criterion(predicted_noise, noise)\n",
        "      loss.backward()\n",
        "      # Update model weights\n",
        "      optimizer.step()\n",
        "\n",
        "      epoch_loss += loss.item()\n",
        "\n",
        "    epoch_end_time = time.time()\n",
        "    formatted_time = str(datetime.timedelta(seconds=int(epoch_end_time - epoch_start_time)))\n",
        "\n",
        "    print(f'Epoch {epoch+1} | Time Taken : {formatted_time} | Loss: {epoch_loss/len(train_loader.dataset):.4f}')\n",
        "    torch.save(model.state_dict(),f\"weights_{epoch}.pth\")\n",
        "\n",
        "  # Save weights\n",
        "\n",
        "train_model(train_dataloader)"
      ],
      "metadata": {
        "colab": {
          "base_uri": "https://localhost:8080/",
          "height": 421
        },
        "id": "IoymBK6bkDyL",
        "outputId": "e720d69d-086c-4d95-d7c6-7f44651a79bc"
      },
      "execution_count": 25,
      "outputs": [
        {
          "output_type": "stream",
          "name": "stdout",
          "text": [
            "Using device: cuda\n",
            "Epoch 1 | Time Taken : 0:01:00 | Loss: 0.0001\n",
            "Epoch 2 | Time Taken : 0:00:59 | Loss: 0.0000\n"
          ]
        },
        {
          "output_type": "error",
          "ename": "KeyboardInterrupt",
          "evalue": "",
          "traceback": [
            "\u001b[0;31m---------------------------------------------------------------------------\u001b[0m",
            "\u001b[0;31mKeyboardInterrupt\u001b[0m                         Traceback (most recent call last)",
            "\u001b[0;32m<ipython-input-25-c9cec48af6c8>\u001b[0m in \u001b[0;36m<cell line: 50>\u001b[0;34m()\u001b[0m\n\u001b[1;32m     48\u001b[0m   \u001b[0;31m# Save weights\u001b[0m\u001b[0;34m\u001b[0m\u001b[0;34m\u001b[0m\u001b[0m\n\u001b[1;32m     49\u001b[0m \u001b[0;34m\u001b[0m\u001b[0m\n\u001b[0;32m---> 50\u001b[0;31m \u001b[0mtrain_model\u001b[0m\u001b[0;34m(\u001b[0m\u001b[0mtrain_dataloader\u001b[0m\u001b[0;34m)\u001b[0m\u001b[0;34m\u001b[0m\u001b[0;34m\u001b[0m\u001b[0m\n\u001b[0m",
            "\u001b[0;32m<ipython-input-25-c9cec48af6c8>\u001b[0m in \u001b[0;36mtrain_model\u001b[0;34m(train_loader, epoch_counts, lr, weights_save_path)\u001b[0m\n\u001b[1;32m     30\u001b[0m       \u001b[0moptimizer\u001b[0m\u001b[0;34m.\u001b[0m\u001b[0mzero_grad\u001b[0m\u001b[0;34m(\u001b[0m\u001b[0;34m)\u001b[0m\u001b[0;34m\u001b[0m\u001b[0;34m\u001b[0m\u001b[0m\n\u001b[1;32m     31\u001b[0m       \u001b[0mpredicted_noise\u001b[0m \u001b[0;34m=\u001b[0m \u001b[0mmodel\u001b[0m\u001b[0;34m(\u001b[0m\u001b[0mx_t\u001b[0m\u001b[0;34m)\u001b[0m\u001b[0;34m\u001b[0m\u001b[0;34m\u001b[0m\u001b[0m\n\u001b[0;32m---> 32\u001b[0;31m       \u001b[0;32mif\u001b[0m \u001b[0mtorch\u001b[0m\u001b[0;34m.\u001b[0m\u001b[0misnan\u001b[0m\u001b[0;34m(\u001b[0m\u001b[0mpredicted_noise\u001b[0m\u001b[0;34m)\u001b[0m\u001b[0;34m.\u001b[0m\u001b[0many\u001b[0m\u001b[0;34m(\u001b[0m\u001b[0;34m)\u001b[0m\u001b[0;34m:\u001b[0m\u001b[0;34m\u001b[0m\u001b[0;34m\u001b[0m\u001b[0m\n\u001b[0m\u001b[1;32m     33\u001b[0m         \u001b[0mprint\u001b[0m\u001b[0;34m(\u001b[0m\u001b[0;34mf\"NaNs detected in model output at batch {batch_idx}\"\u001b[0m\u001b[0;34m)\u001b[0m\u001b[0;34m\u001b[0m\u001b[0;34m\u001b[0m\u001b[0m\n\u001b[1;32m     34\u001b[0m         \u001b[0;32mbreak\u001b[0m\u001b[0;34m\u001b[0m\u001b[0;34m\u001b[0m\u001b[0m\n",
            "\u001b[0;31mKeyboardInterrupt\u001b[0m: "
          ]
        }
      ]
    },
    {
      "cell_type": "code",
      "source": [
        "# Loading Model Weights\n",
        "T = 1000\n",
        "\n",
        "def load_model(model, weights_path):\n",
        "    model.load_state_dict(torch.load(weights_path))\n",
        "    model.eval()\n",
        "    print(f'Model weights loaded from {weights_path}')\n",
        "\n",
        "# Load the model weights\n",
        "device = 'cuda' if torch.cuda.is_available() else 'cpu'\n",
        "model = DiffusionUNet(in_channels=1, n_classes=1, bilinear=False).to(device)\n",
        "load_model(model, \"weights_1.pth\")\n",
        "\n",
        "# Get alphas_cumprod and move it to the correct device\n",
        "alphas_cumprod = get_alphas_cumprod(T)\n",
        "alphas_cumprod = torch.tensor(alphas_cumprod).float().to(device)\n",
        "\n",
        "\n",
        "epsilon = 1e-8  # Small constant to avoid division by zero\n",
        "def check_model_weights(model):\n",
        "    for name, param in model.named_parameters():\n",
        "        if torch.isnan(param).any():\n",
        "            print(f\"NaNs found in weights: {name}\")\n",
        "\n",
        "check_model_weights(model)\n",
        "\n",
        "\n",
        "def sample(model, num_samples=3):\n",
        "    model.eval()\n",
        "    with torch.no_grad():\n",
        "        x = torch.randn(num_samples, 1, 28, 28, device=device)  # Start with random noise\n",
        "        for t in reversed(range(T)):\n",
        "            predicted_noise = model(x)\n",
        "\n",
        "            # Debugging: Check for NaNs in predicted noise\n",
        "            if torch.isnan(predicted_noise).any():\n",
        "                print(f\"Model output contains NaNs at timestep {t}!\")\n",
        "                print(\"Predicted noise:\", predicted_noise)\n",
        "                return None\n",
        "\n",
        "            sqrt_alpha = torch.sqrt(alphas_cumprod[t] + epsilon)  # Use torch.sqrt\n",
        "            x = (x - predicted_noise) / sqrt_alpha\n",
        "\n",
        "            # Check for NaNs in the updated tensor\n",
        "            if torch.isnan(x).any():\n",
        "                print(f\"Updated tensor contains NaNs at timestep {t}!\")\n",
        "                print(\"Current tensor:\", x)\n",
        "                return None\n",
        "    return x.cpu()\n",
        "\n",
        "# Generate new images\n",
        "generated_images = sample(model)\n",
        "\n",
        "# # Ensure that there are no NaNs in the generated images\n",
        "# if generated_images is not None and torch.isnan(generated_images).any():\n",
        "#     print(\"Generated images contain NaNs!\")\n",
        "# else:\n",
        "#     print(\"Generated images are\", generated_images)\n",
        "\n",
        "#     # Plot the generated images\n",
        "#     plt.figure(figsize=(8, 8))\n",
        "#     for i in range(len(generated_images)):  # Use len(generated_images) to match the number of images generated\n",
        "#         plt.subplot(1, len(generated_images), i + 1)\n",
        "#         plt.imshow(generated_images[i].reshape(28, 28), cmap='gray')\n",
        "#         plt.axis('off')\n",
        "#     plt.show()"
      ],
      "metadata": {
        "colab": {
          "base_uri": "https://localhost:8080/"
        },
        "id": "kFStbwe-udSR",
        "outputId": "b592fb7f-42b8-4e2a-f56a-6c1dc706a7c3"
      },
      "execution_count": 29,
      "outputs": [
        {
          "output_type": "stream",
          "name": "stdout",
          "text": [
            "Model weights loaded from weights_1.pth\n",
            "Model output contains NaNs at timestep 980!\n",
            "Predicted noise: tensor([[[[nan, nan, nan,  ..., nan, nan, nan],\n",
            "          [nan, nan, nan,  ..., nan, nan, nan],\n",
            "          [nan, nan, nan,  ..., nan, nan, nan],\n",
            "          ...,\n",
            "          [nan, nan, nan,  ..., nan, nan, nan],\n",
            "          [nan, nan, nan,  ..., nan, nan, nan],\n",
            "          [nan, nan, nan,  ..., nan, nan, nan]]],\n",
            "\n",
            "\n",
            "        [[[nan, nan, nan,  ..., nan, nan, nan],\n",
            "          [nan, nan, nan,  ..., nan, nan, nan],\n",
            "          [nan, nan, nan,  ..., nan, nan, nan],\n",
            "          ...,\n",
            "          [nan, nan, nan,  ..., nan, nan, nan],\n",
            "          [nan, nan, nan,  ..., nan, nan, nan],\n",
            "          [nan, nan, nan,  ..., nan, nan, nan]]],\n",
            "\n",
            "\n",
            "        [[[nan, nan, nan,  ..., nan, nan, nan],\n",
            "          [nan, nan, nan,  ..., nan, nan, nan],\n",
            "          [nan, nan, nan,  ..., nan, nan, nan],\n",
            "          ...,\n",
            "          [nan, nan, nan,  ..., nan, nan, nan],\n",
            "          [nan, nan, nan,  ..., nan, nan, nan],\n",
            "          [nan, nan, nan,  ..., nan, nan, nan]]]], device='cuda:0')\n"
          ]
        }
      ]
    },
    {
      "cell_type": "code",
      "source": [],
      "metadata": {
        "id": "K1fRHXJu28fH"
      },
      "execution_count": null,
      "outputs": []
    }
  ]
}
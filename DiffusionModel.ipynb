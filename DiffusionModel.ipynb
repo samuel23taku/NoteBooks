{
  "nbformat": 4,
  "nbformat_minor": 0,
  "metadata": {
    "colab": {
      "provenance": [],
      "authorship_tag": "ABX9TyPqby0qzNV+ccLv+0JgseqP",
      "include_colab_link": true
    },
    "kernelspec": {
      "name": "python3",
      "display_name": "Python 3"
    },
    "language_info": {
      "name": "python"
    }
  },
  "cells": [
    {
      "cell_type": "markdown",
      "metadata": {
        "id": "view-in-github",
        "colab_type": "text"
      },
      "source": [
        "<a href=\"https://colab.research.google.com/github/samuel23taku/NoteBooks/blob/main/DiffusionModel.ipynb\" target=\"_parent\"><img src=\"https://colab.research.google.com/assets/colab-badge.svg\" alt=\"Open In Colab\"/></a>"
      ]
    },
    {
      "cell_type": "code",
      "execution_count": null,
      "metadata": {
        "id": "JaGsy5UQaJJ2"
      },
      "outputs": [],
      "source": []
    },
    {
      "cell_type": "code",
      "source": [
        "import torch\n",
        "import torch.nn as nn\n",
        "import torch.optim as optim\n",
        "from torchvision import datasets,transforms\n",
        "from torchvision.transforms import  ToTensor, Normalize\n",
        "from torch.utils.data import DataLoader\n",
        "import matplotlib.pyplot as plt\n",
        "\n",
        "# Transforms\n",
        "transform = transforms.Compose([\n",
        "    transforms.ToTensor(),\n",
        "    transforms.Normalize((0.5),(0.5))\n",
        "])\n",
        "\n",
        "# Other code\n",
        "training_data = datasets.MNIST(\n",
        "    root=\"data\",\n",
        "    train=True,\n",
        "    download=True,\n",
        "    transform=transform\n",
        ")\n",
        "\n",
        "testing_data = datasets.MNIST(\n",
        "    root=\"data\",\n",
        "    train=False,\n",
        "    download=True,\n",
        "    transform=transform\n",
        ")\n",
        "\n",
        "train_dataloader = DataLoader(\n",
        "    training_data, batch_size = 1000,shuffle=True\n",
        ")\n",
        "test_dataloader = DataLoader(\n",
        "    testing_data, batch_size = 1000,shuffle=True\n",
        ")\n",
        "\n",
        "\n",
        "train_features,train_labels = next(iter(train_dataloader))\n",
        "eg_image = train_features[0].squeeze()\n",
        "label = train_labels[0]\n",
        "plt.imshow(eg_image)\n",
        "plt.title(label)\n",
        "plt.show()"
      ],
      "metadata": {
        "colab": {
          "base_uri": "https://localhost:8080/",
          "height": 452
        },
        "id": "-6_bqgV8bQS9",
        "outputId": "8bc5ee82-b1fa-47fc-993b-a86e91b0c4ae"
      },
      "execution_count": 17,
      "outputs": [
        {
          "output_type": "display_data",
          "data": {
            "text/plain": [
              "<Figure size 640x480 with 1 Axes>"
            ],
            "image/png": "[encoded data removed]"
          },
          "metadata": {}
        }
      ]
    },
    {
      "cell_type": "code",
      "source": [
        "## Diffusion Process"
      ],
      "metadata": {
        "id": "TekXHT7FbRII"
      },
      "execution_count": 18,
      "outputs": []
    },
    {
      "cell_type": "markdown",
      "source": [],
      "metadata": {
        "id": "hRnYYw5RfDZX"
      }
    },
    {
      "cell_type": "code",
      "source": [
        "class DiffusionU_NET(nn.Module):\n",
        "  def __init__(self,in_channels,out_channels):\n",
        "    super(DiffusionU_NET,self).__init__()\n",
        "    self.encoder = nn.Sequential(\n",
        "        nn.Conv2d(in_channels=in_channels,out_channels=64,kernel_size=3,padding=1),\n",
        "        nn.ReLU(inplace=True),\n",
        "        nn.Conv2d(in_channels=64,out_channels=128,kernel_size=3,padding=1),\n",
        "        nn.ReLU(inplace=True),\n",
        "        nn.MaxPool2d(kernel_size=2)\n",
        "        )\n",
        "\n",
        "    self.bottleneck = nn.Sequential(\n",
        "        nn.Conv2d(in_channels=128,out_channels=256,kernel_size=3,padding=1),\n",
        "        nn.ReLU(inplace=True),\n",
        "    )\n",
        "\n",
        "    self.decoder = nn.Sequential(\n",
        "        nn.Conv2d(in_channels=256,out_channels=128,kernel_size=2,stride=2),\n",
        "        nn.ReLU(inplace=True),\n",
        "        nn.Conv2d(in_channels=128,out_channels=64,kernel_size=3,padding=1),\n",
        "        nn.ReLU(inplace=True),\n",
        "        nn.Conv2d(in_channels=64,out_channels=out_channels,kernel_size=1),\n",
        "        )\n",
        "\n",
        "  def forward(self,x):\n",
        "    encoder_def = self.encoder(x)\n",
        "    bottleneck = self.bottleneck(encoder_def)\n",
        "    decoder_def = self.decoder(bottleneck)\n",
        "    return decoder_def\n"
      ],
      "metadata": {
        "id": "lZsJJ7OhfHJP"
      },
      "execution_count": 20,
      "outputs": []
    },
    {
      "cell_type": "code",
      "source": [],
      "metadata": {
        "id": "BsVcWisOhglx"
      },
      "execution_count": null,
      "outputs": []
    }
  ]
}
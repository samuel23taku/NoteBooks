{
  "nbformat": 4,
  "nbformat_minor": 0,
  "metadata": {
    "colab": {
      "provenance": [],
      "gpuType": "A100",
      "authorship_tag": "ABX9TyONsxHTVrm6K1QY1ItukGjE",
      "include_colab_link": true
    },
    "kernelspec": {
      "name": "python3",
      "display_name": "Python 3"
    },
    "language_info": {
      "name": "python"
    },
    "accelerator": "GPU"
  },
  "cells": [
    {
      "cell_type": "markdown",
      "metadata": {
        "id": "view-in-github",
        "colab_type": "text"
      },
      "source": [
        "<a href=\"https://colab.research.google.com/github/samuel23taku/NoteBooks/blob/main/DiffusionModel.ipynb\" target=\"_parent\"><img src=\"https://colab.research.google.com/assets/colab-badge.svg\" alt=\"Open In Colab\"/></a>"
      ]
    },
    {
      "cell_type": "markdown",
      "source": [
        "# Data Loading"
      ],
      "metadata": {
        "id": "GH9BhSmDtyzf"
      }
    },
    {
      "cell_type": "code",
      "source": [
        "import torch\n",
        "import torch.nn as nn\n",
        "import torch.nn.functional as F\n",
        "import torch.optim as optim\n",
        "from torchvision import datasets,transforms\n",
        "from torchvision.transforms import  ToTensor, Normalize\n",
        "from torch.utils.data import DataLoader\n",
        "import matplotlib.pyplot as plt\n",
        "import numpy as np\n",
        "import time\n",
        "import datetime\n",
        "# Transformations\n",
        "transform = transforms.Compose([\n",
        "    transforms.ToTensor(),\n",
        "    transforms.Normalize((0.5,),(0.5,))\n",
        "])\n",
        "\n",
        "# Other code\n",
        "training_data = datasets.MNIST(\n",
        "    root=\"data\",\n",
        "    train=True,\n",
        "    download=True,\n",
        "    transform=transform\n",
        ")\n",
        "\n",
        "testing_data = datasets.MNIST(\n",
        "    root=\"data\",\n",
        "    train=False,\n",
        "    download=True,\n",
        "    transform=transform\n",
        ")\n",
        "\n",
        "train_dataloader = DataLoader(\n",
        "    training_data, batch_size = 3000,shuffle=True\n",
        ")\n",
        "test_dataloader = DataLoader(\n",
        "    testing_data, batch_size = 3000,shuffle=True\n",
        ")\n",
        "\n",
        "\n",
        "train_features,train_labels = next(iter(train_dataloader))\n",
        "print(train_features.shape)\n",
        "eg_image = train_features[0].squeeze()\n",
        "label = train_labels[0]\n",
        "plt.imshow(eg_image)\n",
        "plt.title(label)\n",
        "plt.show()"
      ],
      "metadata": {
        "colab": {
          "base_uri": "https://localhost:8080/",
          "height": 473
        },
        "id": "-6_bqgV8bQS9",
        "outputId": "84b92166-d92a-45fd-baa5-2ae805322511"
      },
      "execution_count": 8,
      "outputs": [
        {
          "output_type": "stream",
          "name": "stdout",
          "text": [
            "torch.Size([3000, 1, 28, 28])\n"
          ]
        },
        {
          "output_type": "display_data",
          "data": {
            "text/plain": [
              "<Figure size 640x480 with 1 Axes>"
            ],
            "image/png": "[encoded data removed]"
          },
          "metadata": {}
        }
      ]
    },
    {
      "cell_type": "markdown",
      "source": [],
      "metadata": {
        "id": "hRnYYw5RfDZX"
      }
    },
    {
      "cell_type": "markdown",
      "source": [
        "# Diffusion Process\n",
        "\n"
      ],
      "metadata": {
        "id": "tDXoa2VVtqjP"
      }
    },
    {
      "cell_type": "code",
      "source": [
        "device = torch.device(\"cuda\" if torch.cuda.is_available() else \"cpu\")\n",
        "class Util_DoubleConv(nn.Module):\n",
        "  def __init__(self,in_channels,out_channels,mid_channels=None): # mid_channels for number of neurons in the middle layer\n",
        "    super().__init__()\n",
        "    if not mid_channels:\n",
        "        mid_channels = out_channels\n",
        "    self.double_conv = nn.Sequential(\n",
        "        nn.Conv2d(in_channels, mid_channels, kernel_size=3, padding=1, bias=False),\n",
        "        nn.BatchNorm2d(mid_channels),\n",
        "        nn.ReLU(inplace=True),\n",
        "        nn.Conv2d(mid_channels, out_channels, kernel_size=3, padding=1, bias=False),\n",
        "        nn.BatchNorm2d(out_channels),\n",
        "        nn.ReLU(inplace=True)\n",
        "    )\n",
        "\n",
        "  def forward(self,x):\n",
        "    return self.double_conv(x)\n",
        "\n",
        "class Util_DownScale(nn.Module):\n",
        "  def __init__(self,in_channels,out_channels):\n",
        "    super().__init__()\n",
        "    self.maxpool_conv = nn.Sequential(\n",
        "        nn.MaxPool2d(kernel_size=2),\n",
        "        Util_DoubleConv(in_channels,out_channels)\n",
        "    )\n",
        "\n",
        "  def forward(self,x):\n",
        "    return self.maxpool_conv(x)\n",
        "\n",
        "class Util_UpScale(nn.Module):\n",
        "  def __init__(self,in_channels,out_channels,bilinear=True): # Either use bilinear or transposed Conv2d\n",
        "    super().__init__()\n",
        "    if bilinear:\n",
        "      self.up = nn.Upsample(scale_factor=2,mode=\"bilinear\",align_corners=True)\n",
        "      self.conv = Util_DoubleConv(in_channels=in_channels,out_channels=out_channels,mid_channels= in_channels // 2)\n",
        "    else:\n",
        "      self.up = nn.ConvTranspose2d(in_channels=in_channels,out_channels=out_channels,kernel_size = 2,stride=2)\n",
        "      self.conv = Util_DoubleConv(in_channels,out_channels,mid_channels= in_channels // 2)\n",
        "\n",
        "  def forward(self,x1,x2):\n",
        "    '''\n",
        "        x2 is a skip connection value from the encoder,\n",
        "        while x1 is the decoder current state\n",
        "    '''\n",
        "\n",
        "    x1 = self.up(x1)\n",
        "\n",
        "    # Compute height difference between x1 and x2\n",
        "    diffY = x2.size()[2] - x1.size()[2]\n",
        "    diffX = x2.size()[3] - x1.size()[3]\n",
        "\n",
        "    # Make x1 match the size of x2\n",
        "    x1 = F.pad(x1, [diffX // 2, diffX - diffX // 2,diffY // 2, diffY - diffY // 2])\n",
        "\n",
        "    # Do skip connection by concaticating tensor from different layers\n",
        "    x = torch.cat([x2,x1],dim=1)\n",
        "\n",
        "    return self.conv(x)\n",
        "\n",
        "class OutConv(nn.Module):\n",
        "    def __init__(self, in_channels, out_channels):\n",
        "        super(OutConv, self).__init__()\n",
        "        self.conv = nn.Conv2d(in_channels, out_channels, kernel_size=1)\n",
        "\n",
        "    def forward(self, x):\n",
        "        return self.conv(x)\n",
        "\n",
        "class DiffusionUNet(nn.Module):\n",
        "    def __init__(self, in_channels, n_classes, bilinear=False):\n",
        "        super(DiffusionUNet, self).__init__()\n",
        "        self.n_channels = in_channels\n",
        "        self.n_classes = n_classes\n",
        "        self.bilinear = bilinear\n",
        "        self.n_times = 1000\n",
        "        self.img_H, self.img_W, self.img_C = [28,28,1]\n",
        "\n",
        "        self.inc = (Util_DoubleConv(in_channels, 64))\n",
        "        self.down1 = (Util_DownScale(64, 128))\n",
        "        self.down2 = (Util_DownScale(128, 256))\n",
        "        self.down3 = (Util_DownScale(256, 512))\n",
        "        factor = 2 if bilinear else 1\n",
        "        self.down4 = (Util_DownScale(512, 1024 // factor))\n",
        "        self.up1 = (Util_UpScale(1024, 512 // factor, bilinear))\n",
        "        self.up2 = (Util_UpScale(512, 256 // factor, bilinear))\n",
        "        self.up3 = (Util_UpScale(256, 128 // factor, bilinear))\n",
        "        self.up4 = (Util_UpScale(128, 64, bilinear))\n",
        "        self.outc = (OutConv(64, n_classes))\n",
        "\n",
        "    def forward(self, x):\n",
        "      x1 = self.inc(x)\n",
        "      x2 = self.down1(x1)\n",
        "      x3 = self.down2(x2)\n",
        "      x4 = self.down3(x3)\n",
        "      x5 = self.down4(x4)\n",
        "      x = self.up1(x5, x4)\n",
        "      x = self.up2(x, x3)\n",
        "      x = self.up3(x, x2)\n",
        "      x = self.up4(x, x1)\n",
        "      logits = self.outc(x)\n",
        "      return logits\n",
        "\n",
        "\n",
        "\n",
        "# The noising part\n",
        "def forward_diffusion(alphas_cumprod, x_start, t, noise):\n",
        "    batch_size, _, height, width = x_start.size()\n",
        "    # Expand alphas_cumprod[t] to match the shape of x_start and noise\n",
        "    alphas_cumprod_t = alphas_cumprod[t].view(batch_size, 1, 1, 1).expand(batch_size, 1, height, width).to(x_start.device)\n",
        "    return torch.sqrt(alphas_cumprod_t) * x_start + torch.sqrt(1 - alphas_cumprod_t) * noise\n"
      ],
      "metadata": {
        "id": "lZsJJ7OhfHJP"
      },
      "execution_count": 9,
      "outputs": []
    },
    {
      "cell_type": "markdown",
      "source": [
        "## Training Loop"
      ],
      "metadata": {
        "id": "Y_fIJZsvj_am"
      }
    },
    {
      "cell_type": "code",
      "source": [
        "device = torch.device(\"cuda\" if torch.cuda.is_available() else \"cpu\")\n",
        "print(f\"Using device: {device}\")\n",
        "T = 1000\n",
        "\n",
        "def get_alphas_cumprod(T):\n",
        "    betas = np.linspace(1e-4, 0.02, T)\n",
        "    alphas = 1 - betas\n",
        "    alphas_cumprod = np.cumprod(alphas)\n",
        "    return alphas_cumprod\n",
        "\n",
        "def train_model(train_loader,epoch_counts=3,lr=1e-3,weights_save_path = \"./weights\"):\n",
        "  alphas_cumprod = get_alphas_cumprod(T)\n",
        "  alphas_cumprod = torch.tensor(alphas_cumprod).float().to(device)\n",
        "\n",
        "  model = DiffusionUNet(in_channels=1,n_classes=1,bilinear=False)\n",
        "  model.to(device)\n",
        "\n",
        "  optimizer = optim.Adam(model.parameters(), lr=lr)\n",
        "  loss_criterion = nn.MSELoss()\n",
        "# Generate alpha values to noise on each timestep\n",
        "  model.train()\n",
        "  for epoch in range(epoch_counts):\n",
        "    epoch_start_time = time.time()  # Start time before epoch begins\n",
        "    epoch_loss = 0\n",
        "    for batch_idx, (data,_) in enumerate(train_loader):\n",
        "      data = data.view(-1,1,28,28).to(device) # Reshape and\n",
        "      t = torch.randint(0,T,(data.size(0),),dtype=torch.long,device=device)\n",
        "      noise = torch.randn_like(data,device=device)\n",
        "      x_t = forward_diffusion(alphas_cumprod,data,t,noise)\n",
        "\n",
        "      optimizer.zero_grad()\n",
        "      predicted_noise = model(x_t)\n",
        "      loss = loss_criterion(predicted_noise, noise)\n",
        "      loss.backward()\n",
        "      # Update model weights\n",
        "      optimizer.step()\n",
        "\n",
        "      epoch_loss += loss.item()\n",
        "\n",
        "    epoch_end_time = time.time()\n",
        "    formatted_time = str(datetime.timedelta(seconds=int(epoch_end_time - epoch_start_time)))\n",
        "\n",
        "    print(f'Epoch {epoch+1} || Time taken {formatted_time} ||  Loss: {epoch_loss :.4f}')\n",
        "    torch.save(model.state_dict(),f\"weights_{epoch}.pth\")\n",
        "\n",
        "  # Save weights\n",
        "\n",
        "train_model(train_loader = train_dataloader, epoch_counts = 50)"
      ],
      "metadata": {
        "colab": {
          "base_uri": "https://localhost:8080/"
        },
        "id": "IoymBK6bkDyL",
        "outputId": "add962e2-c641-43e0-b50c-2f7bde3f0cb3"
      },
      "execution_count": 10,
      "outputs": [
        {
          "output_type": "stream",
          "name": "stdout",
          "text": [
            "Using device: cuda\n",
            "Epoch 1 || Time taken 0:00:16 ||  Loss: 5.0090\n",
            "Epoch 2 || Time taken 0:00:16 ||  Loss: 1.8238\n",
            "Epoch 3 || Time taken 0:00:16 ||  Loss: 1.3766\n",
            "Epoch 4 || Time taken 0:00:16 ||  Loss: 1.2278\n",
            "Epoch 5 || Time taken 0:00:16 ||  Loss: 1.1152\n",
            "Epoch 6 || Time taken 0:00:16 ||  Loss: 1.0357\n",
            "Epoch 7 || Time taken 0:00:16 ||  Loss: 1.0149\n",
            "Epoch 8 || Time taken 0:00:16 ||  Loss: 0.9458\n",
            "Epoch 9 || Time taken 0:00:16 ||  Loss: 0.9208\n",
            "Epoch 10 || Time taken 0:00:16 ||  Loss: 0.9127\n",
            "Epoch 11 || Time taken 0:00:16 ||  Loss: 0.8821\n",
            "Epoch 12 || Time taken 0:00:16 ||  Loss: 0.8650\n",
            "Epoch 13 || Time taken 0:00:16 ||  Loss: 0.8448\n",
            "Epoch 14 || Time taken 0:00:16 ||  Loss: 0.8272\n",
            "Epoch 15 || Time taken 0:00:16 ||  Loss: 0.8282\n",
            "Epoch 16 || Time taken 0:00:16 ||  Loss: 0.8065\n",
            "Epoch 17 || Time taken 0:00:16 ||  Loss: 0.7818\n",
            "Epoch 18 || Time taken 0:00:16 ||  Loss: 0.7783\n",
            "Epoch 19 || Time taken 0:00:16 ||  Loss: 0.7878\n",
            "Epoch 20 || Time taken 0:00:16 ||  Loss: 0.7658\n",
            "Epoch 21 || Time taken 0:00:16 ||  Loss: 0.7464\n",
            "Epoch 22 || Time taken 0:00:16 ||  Loss: 0.7310\n",
            "Epoch 23 || Time taken 0:00:16 ||  Loss: 0.7290\n",
            "Epoch 24 || Time taken 0:00:16 ||  Loss: 0.7586\n",
            "Epoch 25 || Time taken 0:00:16 ||  Loss: 0.7236\n",
            "Epoch 26 || Time taken 0:00:16 ||  Loss: 0.7140\n",
            "Epoch 27 || Time taken 0:00:16 ||  Loss: 0.6965\n",
            "Epoch 28 || Time taken 0:00:16 ||  Loss: 0.7116\n",
            "Epoch 29 || Time taken 0:00:16 ||  Loss: 0.6866\n",
            "Epoch 30 || Time taken 0:00:16 ||  Loss: 0.6716\n",
            "Epoch 31 || Time taken 0:00:16 ||  Loss: 0.6872\n",
            "Epoch 32 || Time taken 0:00:16 ||  Loss: 0.6736\n",
            "Epoch 33 || Time taken 0:00:16 ||  Loss: 0.6770\n",
            "Epoch 34 || Time taken 0:00:16 ||  Loss: 0.6682\n",
            "Epoch 35 || Time taken 0:00:16 ||  Loss: 0.6699\n",
            "Epoch 36 || Time taken 0:00:16 ||  Loss: 0.6582\n",
            "Epoch 37 || Time taken 0:00:16 ||  Loss: 0.6597\n",
            "Epoch 38 || Time taken 0:00:16 ||  Loss: 0.6431\n",
            "Epoch 39 || Time taken 0:00:16 ||  Loss: 0.6409\n",
            "Epoch 40 || Time taken 0:00:16 ||  Loss: 0.6508\n",
            "Epoch 41 || Time taken 0:00:16 ||  Loss: 0.6311\n",
            "Epoch 42 || Time taken 0:00:16 ||  Loss: 0.6389\n",
            "Epoch 43 || Time taken 0:00:16 ||  Loss: 0.6579\n",
            "Epoch 44 || Time taken 0:00:16 ||  Loss: 0.6365\n",
            "Epoch 45 || Time taken 0:00:16 ||  Loss: 0.6456\n",
            "Epoch 46 || Time taken 0:00:16 ||  Loss: 0.6289\n",
            "Epoch 47 || Time taken 0:00:16 ||  Loss: 0.6099\n",
            "Epoch 48 || Time taken 0:00:16 ||  Loss: 0.6047\n",
            "Epoch 49 || Time taken 0:00:16 ||  Loss: 0.6180\n",
            "Epoch 50 || Time taken 0:00:16 ||  Loss: 0.6196\n"
          ]
        }
      ]
    },
    {
      "cell_type": "code",
      "source": [
        "# Loading Model Weights\n",
        "T = 1000\n",
        "def load_model(model,weights_path):\n",
        "    model.load_state_dict(torch.load(weights_path))\n",
        "    model.eval()\n",
        "    print(f'Model weights loaded from {weights_path}')\n",
        "\n",
        "# Load the model weights\n",
        "model = DiffusionUNet(in_channels=1,n_classes=1,bilinear=False).to(device)\n",
        "load_model(model,\"weights_48.pth\")\n",
        "\n",
        "alphas_cumprod = get_alphas_cumprod(T)\n",
        "alphas_cumprod = torch.tensor(alphas_cumprod).float()\n",
        "\n",
        "epsilon = 1e-8  # Small constant to avoid division by zero\n",
        "def sample():\n",
        "  with torch.no_grad():\n",
        "    x = torch.randn(5, 1, 28, 28, device=device)  # Start with random noise\n",
        "    for t in reversed(range(T)):\n",
        "      predicted_noise = model(x)\n",
        "      # print(\"Predicted noise is \",x) Returning NaN\n",
        "      sqrt_alpha = np.sqrt(alphas_cumprod[t] + epsilon)  # Add epsilon here\n",
        "\n",
        "      image = (x - predicted_noise) / sqrt_alpha\n",
        "  return image.cpu()\n",
        "\n",
        "images = sample()\n",
        "print(images.shape)\n",
        "\n",
        "plt.figure(figsize=(8, 8))\n",
        "for i in range(len(images)):  # Use len(generated_images) to match the number of images generated\n",
        "    plt.subplot(1, len(images), i+1)\n",
        "    plt.imshow(images[i].reshape(28, 28))\n",
        "    plt.axis('off')\n",
        "plt.show()"
      ],
      "metadata": {
        "colab": {
          "base_uri": "https://localhost:8080/",
          "height": 186
        },
        "id": "kFStbwe-udSR",
        "outputId": "8bd1ef02-eb82-4367-baa3-669c7ea1d102"
      },
      "execution_count": 11,
      "outputs": [
        {
          "output_type": "stream",
          "name": "stdout",
          "text": [
            "Model weights loaded from weights_48.pth\n",
            "torch.Size([5, 1, 28, 28])\n"
          ]
        },
        {
          "output_type": "display_data",
          "data": {
            "text/plain": [
              "<Figure size 800x800 with 5 Axes>"
            ],
            "image/png": "[encoded data removed]"
          },
          "metadata": {}
        }
      ]
    },
    {
      "cell_type": "markdown",
      "source": [
        "# Can you see the numbers"
      ],
      "metadata": {
        "id": "4nUjkkM_pjWr"
      }
    },
    {
      "cell_type": "code",
      "source": [],
      "metadata": {
        "id": "K1fRHXJu28fH"
      },
      "execution_count": null,
      "outputs": []
    }
  ]
}
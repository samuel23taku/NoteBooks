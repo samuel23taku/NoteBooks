{
  "nbformat": 4,
  "nbformat_minor": 0,
  "metadata": {
    "colab": {
      "provenance": [],
      "authorship_tag": "ABX9TyPzj6OJMVD5pIMkoltzZ6aF",
      "include_colab_link": true
    },
    "kernelspec": {
      "name": "python3",
      "display_name": "Python 3"
    },
    "language_info": {
      "name": "python"
    }
  },
  "cells": [
    {
      "cell_type": "markdown",
      "metadata": {
        "id": "view-in-github",
        "colab_type": "text"
      },
      "source": [
        "<a href=\"https://colab.research.google.com/github/samuel23taku/NoteBooks/blob/main/DiffusionModel.ipynb\" target=\"_parent\"><img src=\"https://colab.research.google.com/assets/colab-badge.svg\" alt=\"Open In Colab\"/></a>"
      ]
    },
    {
      "cell_type": "code",
      "execution_count": null,
      "metadata": {
        "id": "JaGsy5UQaJJ2"
      },
      "outputs": [],
      "source": []
    },
    {
      "cell_type": "code",
      "source": [
        "import torch\n",
        "import torch.nn as nn\n",
        "import torch.nn.functional as F\n",
        "import torch.optim as optim\n",
        "from torchvision import datasets,transforms\n",
        "from torchvision.transforms import  ToTensor, Normalize\n",
        "from torch.utils.data import DataLoader\n",
        "import matplotlib.pyplot as plt\n",
        "import numpy as np\n",
        "\n",
        "# Transformations\n",
        "transform = transforms.Compose([\n",
        "    transforms.ToTensor(),\n",
        "    transforms.Normalize((0.5,),(0.5,))\n",
        "])\n",
        "\n",
        "# Other code\n",
        "training_data = datasets.MNIST(\n",
        "    root=\"data\",\n",
        "    train=True,\n",
        "    download=True,\n",
        "    transform=transform\n",
        ")\n",
        "\n",
        "testing_data = datasets.MNIST(\n",
        "    root=\"data\",\n",
        "    train=False,\n",
        "    download=True,\n",
        "    transform=transform\n",
        ")\n",
        "\n",
        "train_dataloader = DataLoader(\n",
        "    training_data, batch_size = 1000,shuffle=True\n",
        ")\n",
        "test_dataloader = DataLoader(\n",
        "    testing_data, batch_size = 1000,shuffle=True\n",
        ")\n",
        "\n",
        "\n",
        "train_features,train_labels = next(iter(train_dataloader))\n",
        "eg_image = train_features[0].squeeze()\n",
        "label = train_labels[0]\n",
        "plt.imshow(eg_image)\n",
        "plt.title(label)\n",
        "plt.show()"
      ],
      "metadata": {
        "colab": {
          "base_uri": "https://localhost:8080/",
          "height": 452
        },
        "id": "-6_bqgV8bQS9",
        "outputId": "e59c398c-7083-47e5-e05b-3ed260526ab4"
      },
      "execution_count": 2,
      "outputs": [
        {
          "output_type": "display_data",
          "data": {
            "text/plain": [
              "<Figure size 640x480 with 1 Axes>"
            ],
            "image/png": "[encoded data removed]"
          },
          "metadata": {}
        }
      ]
    },
    {
      "cell_type": "code",
      "source": [
        "## Diffusion Process"
      ],
      "metadata": {
        "id": "TekXHT7FbRII"
      },
      "execution_count": 18,
      "outputs": []
    },
    {
      "cell_type": "markdown",
      "source": [],
      "metadata": {
        "id": "hRnYYw5RfDZX"
      }
    },
    {
      "cell_type": "code",
      "source": [
        "class Util_DoubleConv(nn.Module):\n",
        "  def __init__(self,in_channels,out_channels,mid_channels=None): # mid_channels for number of neurons in the middle layer\n",
        "    super().__init__()\n",
        "    if not mid_channels:\n",
        "        mid_channels = out_channels\n",
        "    self.double_conv = nn.Sequential(\n",
        "        nn.Conv2d(in_channels, mid_channels, kernel_size=3, padding=1, bias=False),\n",
        "        nn.BatchNorm2d(mid_channels),\n",
        "        nn.ReLU(inplace=True),\n",
        "        nn.Conv2d(mid_channels, out_channels, kernel_size=3, padding=1, bias=False),\n",
        "        nn.BatchNorm2d(out_channels),\n",
        "        nn.ReLU(inplace=True)\n",
        "    )\n",
        "\n",
        "  def forward(self,x):\n",
        "    return self.double_conv(x)\n",
        "\n",
        "class Util_DownScale(nn.Module):\n",
        "  def __init__(self,in_channels,out_channels):\n",
        "    super().__init__()\n",
        "    self.maxpool_conv = nn.Sequential(\n",
        "        nn.MaxPool2d(kernel_size=2),\n",
        "        Util_DoubleConv(in_channels,out_channels)\n",
        "    )\n",
        "\n",
        "  def forward(self,x):\n",
        "    return self.maxpool_conv(x)\n",
        "\n",
        "class Util_UpScale(nn.Module):\n",
        "  def __init__(self,in_channels,out_channels,bilinear=True): # Either use bilinear or transposed Conv2d\n",
        "    super().__init__()\n",
        "    if bilinear:\n",
        "      self.up = nn.Upsample(scale_factor=2,mode=\"bilinear\",align_corners=True)\n",
        "      self.conv = Util_DoubleConv(in_channels=in_channels,out_channels=out_channels,mid_channels= in_channels // 2)\n",
        "    else:\n",
        "      self.up = nn.ConvTranspose2d(in_channels=in_channels,out_channels=out_channels,kernel_size = 2,stride=2)\n",
        "      self.conv = Util_DoubleConv(in_channels,out_channels,mid_channels= in_channels // 2)\n",
        "\n",
        "  def forward(self,x1,x2):\n",
        "    '''\n",
        "        x2 is a skip connection value from the encoder,\n",
        "        while x1 is the decoder current state\n",
        "    '''\n",
        "\n",
        "    x1 = self.up(x1)\n",
        "\n",
        "    # Compute height difference between x1 and x2\n",
        "    diffY = x2.size()[2] - x1.size()[2]\n",
        "    diffX = x2.size()[3] - x1.size()[3]\n",
        "\n",
        "    # Make x1 match the size of x2\n",
        "    x1 = F.pad(x1, [diffX // 2, diffX - diffX // 2,diffY // 2, diffY - diffY // 2])\n",
        "\n",
        "    # Do skip connection by concaticating tensor from different layers\n",
        "    x = torch.cat([x2,x1],dim=1)\n",
        "\n",
        "    return self.conv(x)\n",
        "\n",
        "class OutConv(nn.Module):\n",
        "    def __init__(self, in_channels, out_channels):\n",
        "        super(OutConv, self).__init__()\n",
        "        self.conv = nn.Conv2d(in_channels, out_channels, kernel_size=1)\n",
        "\n",
        "    def forward(self, x):\n",
        "        return self.conv(x)\n",
        "\n",
        "class DiffusionUNet(nn.Module):\n",
        "    def __init__(self, in_channels, n_classes, bilinear=False):\n",
        "        super(DiffusionUNet, self).__init__()\n",
        "        self.n_channels = in_channels\n",
        "        self.n_classes = n_classes\n",
        "        self.bilinear = bilinear\n",
        "\n",
        "        self.inc = (Util_DoubleConv(in_channels, 64))\n",
        "        self.down1 = (Util_DownScale(64, 128))\n",
        "        self.down2 = (Util_DownScale(128, 256))\n",
        "        self.down3 = (Util_DownScale(256, 512))\n",
        "        factor = 2 if bilinear else 1\n",
        "        self.down4 = (Util_DownScale(512, 1024 // factor))\n",
        "        self.up1 = (Util_UpScale(1024, 512 // factor, bilinear))\n",
        "        self.up2 = (Util_UpScale(512, 256 // factor, bilinear))\n",
        "        self.up3 = (Util_UpScale(256, 128 // factor, bilinear))\n",
        "        self.up4 = (Util_UpScale(128, 64, bilinear))\n",
        "        self.outc = (OutConv(64, n_classes))\n",
        "\n",
        "    def forward(self, x):\n",
        "      x1 = self.inc(x)\n",
        "      x2 = self.down1(x1)\n",
        "      x3 = self.down2(x2)\n",
        "      x4 = self.down3(x3)\n",
        "      x5 = self.down4(x4)\n",
        "      x = self.up1(x5, x4)\n",
        "      x = self.up2(x, x3)\n",
        "      x = self.up3(x, x2)\n",
        "      x = self.up4(x, x1)\n",
        "      logits = self.outc(x)\n",
        "      return logits\n",
        "\n",
        "    def use_checkpointing(self):\n",
        "      self.inc = torch.utils.checkpoint(self.inc)\n",
        "      self.down1 = torch.utils.checkpoint(self.down1)\n",
        "      self.down2 = torch.utils.checkpoint(self.down2)\n",
        "      self.down3 = torch.utils.checkpoint(self.down3)\n",
        "      self.down4 = torch.utils.checkpoint(self.down4)\n",
        "      self.up1 = torch.utils.checkpoint(self.up1)\n",
        "      self.up2 = torch.utils.checkpoint(self.up2)\n",
        "      self.up3 = torch.utils.checkpoint(self.up3)\n",
        "      self.up4 = torch.utils.checkpoint(self.up4)\n",
        "      self.outc = torch.utils.checkpoint(self.outc)\n",
        "# The noising part\n",
        "def forward_diffusion(alphas_cumprod, x_start, t, noise):\n",
        "    batch_size, _, height, width = x_start.size()\n",
        "    # Expand alphas_cumprod[t] to match the shape of x_start and noise\n",
        "    alphas_cumprod_t = alphas_cumprod[t].view(batch_size, 1, 1, 1).expand(batch_size, 1, height, width).to(x_start.device)\n",
        "    return torch.sqrt(alphas_cumprod_t) * x_start + torch.sqrt(1 - alphas_cumprod_t) * noise\n"
      ],
      "metadata": {
        "id": "lZsJJ7OhfHJP"
      },
      "execution_count": null,
      "outputs": []
    },
    {
      "cell_type": "markdown",
      "source": [
        "## Training Loop"
      ],
      "metadata": {
        "id": "Y_fIJZsvj_am"
      }
    },
    {
      "cell_type": "code",
      "source": [
        "def get_alphas_cumprod(T):\n",
        "    betas = np.linspace(1e-4, 0.02, T)\n",
        "    alphas = 1 - betas\n",
        "    alphas_cumprod = np.cumprod(alphas)\n",
        "    return alphas_cumprod\n",
        "\n",
        "def train_model(train_loader,epoch_counts=30,lr=1e-3,weights_save_path = \"./weights\"):\n",
        "  T = 1000  # Number of diffusion steps\n",
        "  alphas_cumprod = get_alphas_cumprod(T)\n",
        "  alphas_cumprod = torch.tensor(alphas_cumprod).float()\n",
        "\n",
        "  model = DiffusionUNet(in_channels=1,n_classes=1,bilinear=False)\n",
        "\n",
        "  optimizer = optim.Adam(model.parameters(), lr=lr)\n",
        "  loss_criterion = nn.MSELoss()\n",
        "# Generate alpha values to noise on each timestep\n",
        "  model.train()\n",
        "  for epoch in range(epoch_counts):\n",
        "    epoch_loss = 0\n",
        "    for batch_idx, (data,_) in enumerate(train_loader):\n",
        "      data = data.view(-1,1,28,28) # Reshape and\n",
        "      t = torch.randint(0,T,(data.size(0),),dtype=torch.long)\n",
        "      noise = torch.randn_like(data)\n",
        "      x_t = forward_diffusion(alphas_cumprod,data,t,noise)\n",
        "\n",
        "      optimizer.zero_grad()\n",
        "      predicted_noise = model(x_t)\n",
        "      print(f\"Predicted size {predicted_noise.size()}\")\n",
        "      print(f\"Original image size {data.size()}\")\n",
        "      loss = loss_criterion(predicted_noise, noise)\n",
        "      loss.backward()\n",
        "      # Update model weights\n",
        "      optimizer.step()\n",
        "\n",
        "      epoch_loss += loss.item()\n",
        "\n",
        "  print(f'Epoch {epoch+1}, Loss: {epoch_loss/len(train_loader.dataset):.4f}')\n",
        "\n",
        "  # Save weights\n",
        "  torch.save(model.state_dict(),weights_save_path)\n",
        "\n",
        "train_model(train_dataloader)"
      ],
      "metadata": {
        "colab": {
          "base_uri": "https://localhost:8080/"
        },
        "id": "IoymBK6bkDyL",
        "outputId": "9ff9f098-03fb-4711-cbd5-955cbcd85905"
      },
      "execution_count": null,
      "outputs": [
        {
          "output_type": "stream",
          "name": "stdout",
          "text": [
            "X before up1 torch.Size([1000, 1, 28, 28])\n",
            "Predicted size torch.Size([1000, 1, 28, 28])\n",
            "Original image size torch.Size([1000, 1, 28, 28])\n"
          ]
        }
      ]
    },
    {
      "cell_type": "code",
      "source": [
        "# Loading Model Weights\n",
        "def load_model(model, load_path='model_weights.pth'):\n",
        "    model.load_state_dict(torch.load(load_path))\n",
        "    model.eval()\n",
        "    print(f'Model weights loaded from {load_path}')\n",
        "\n",
        "# Load the model weights\n",
        "load_model(model)\n",
        "\n",
        "# Sampling New Images\n",
        "def sample(model, num_samples=64):\n",
        "    model.eval()\n",
        "    with torch.no_grad():\n",
        "        x = torch.randn(num_samples, 1, 28, 28)  # Start with random noise\n",
        "        for t in reversed(range(T)):\n",
        "            predicted_noise = model(x)\n",
        "            x = (x - predicted_noise) / np.sqrt(get_alphas_cumprod()[t])\n",
        "    return x.cpu()\n",
        "\n",
        "# Generate new images\n",
        "generated_images = sample(model)\n",
        "\n",
        "# Plot the generated images\n",
        "plt.figure(figsize=(8, 8))\n",
        "for i in range(64):\n",
        "    plt.subplot(8, 8, i+1)\n",
        "    plt.imshow(generated_images[i].reshape(28, 28), cmap='gray')\n",
        "    plt.axis('off')\n",
        "plt.show()"
      ],
      "metadata": {
        "id": "kFStbwe-udSR"
      },
      "execution_count": null,
      "outputs": []
    }
  ]
}